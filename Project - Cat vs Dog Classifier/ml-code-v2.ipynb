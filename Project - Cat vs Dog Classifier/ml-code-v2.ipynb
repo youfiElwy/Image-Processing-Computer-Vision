{
 "cells": [
  {
   "cell_type": "markdown",
   "metadata": {},
   "source": [
    "# Steps"
   ]
  },
  {
   "cell_type": "code",
   "execution_count": 187,
   "metadata": {},
   "outputs": [],
   "source": [
    "# SIFT Feature Extraction:\n",
    "\n",
    "# SIFT features (descriptors) are extracted from all the images.\n",
    "# For each image, we extract multiple SIFT descriptors.\n",
    "# Each SIFT descriptor is a high-dimensional vector (typically of length 128)."
   ]
  },
  {
   "cell_type": "code",
   "execution_count": 188,
   "metadata": {},
   "outputs": [],
   "source": [
    "# Clustering with KMeans:\n",
    "\n",
    "# We use KMeans clustering to group these SIFT descriptors into clusters.\n",
    "# Each cluster represents a visual word in our visual vocabulary.\n",
    "# The number of clusters k we choose determines how many visual words we have in our vocabulary.\n",
    "\n",
    "# In this case, we set k=2, meaning we want to create 2 visual words."
   ]
  },
  {
   "cell_type": "code",
   "execution_count": 189,
   "metadata": {},
   "outputs": [],
   "source": [
    "# Visual Vocabulary: (Bag Of Visual Words)\n",
    "\n",
    "# After KMeans clustering, we get k cluster centers.\n",
    "# These centers are the centroids of the clusters in the 128-dimensional space of SIFT descriptors.\n",
    "\n",
    "# For k=2, we get 2 cluster centers, each a vector of length 128.\n",
    "\n",
    "# Example:\n",
    "\n",
    "# Cluster 1: Center might represent a common pattern found in both cat and dog images, such as fur texture.\n",
    "# Cluster 2: Center might represent another pattern, such as ear shape."
   ]
  },
  {
   "cell_type": "code",
   "execution_count": 190,
   "metadata": {},
   "outputs": [],
   "source": [
    "# Histogram Representation:\n",
    "\n",
    "# For each image, we convert its SIFT descriptors into one histogram of visual words.\n",
    "# This histogram indicates how many descriptors fall into each cluster (visual word).\n",
    "# So each image has one histogram.\n",
    "\n",
    "\n",
    "# Steps:\n",
    "\n",
    "# Extract SIFT descriptors for an image.\n",
    "# Assign each descriptor to the nearest cluster center (visual word).\n",
    "# Create a histogram where each bin counts how many descriptors fall into each cluster.\n",
    "# For example, if we have k=2:\n",
    "\n",
    "# Image 1 (Cat):\n",
    "#        - 10 descriptors assigned to Cluster 1\n",
    "#        - 20 descriptors assigned to Cluster 2\n",
    "#        - Histogram: [10, 20]\n",
    "\n",
    "# Image 2 (Dog):\n",
    "#        - 15 descriptors assigned to Cluster 1\n",
    "#        - 25 descriptors assigned to Cluster 2\n",
    "#        - Histogram: [15, 25]\n",
    "\n",
    "# These histograms are the feature vectors used to train the classifier."
   ]
  },
  {
   "cell_type": "code",
   "execution_count": 191,
   "metadata": {},
   "outputs": [],
   "source": [
    "# Training the SVM Classifier:\n",
    "\n",
    "# We train an SVM classifier using these histogram features:\n",
    "\n",
    "# X_train: Histograms for the training images.\n",
    "# y_train: Labels (0 for cats, 1 for dogs)."
   ]
  },
  {
   "cell_type": "markdown",
   "metadata": {},
   "source": [
    "# Imports"
   ]
  },
  {
   "cell_type": "code",
   "execution_count": 192,
   "metadata": {},
   "outputs": [],
   "source": [
    "import os\n",
    "import shutil\n",
    "import random\n",
    "import cv2\n",
    "import numpy as np\n",
    "import shutil\n",
    "from sklearn.cluster import KMeans\n",
    "from sklearn.svm import SVC\n",
    "import tensorflow as tf\n",
    "from tensorflow.keras.preprocessing.image import ImageDataGenerator\n",
    "import matplotlib.pyplot as plt\n",
    "import seaborn as sns\n",
    "from sklearn.metrics import accuracy_score, recall_score, precision_score, f1_score, classification_report, confusion_matrix\n",
    "from sklearn.model_selection import GridSearchCV"
   ]
  },
  {
   "cell_type": "markdown",
   "metadata": {},
   "source": [
    "# Dataset Preperation"
   ]
  },
  {
   "cell_type": "code",
   "execution_count": 193,
   "metadata": {},
   "outputs": [],
   "source": [
    "# delete the sampled_dataset directory/\n",
    "shutil.rmtree('sampled_dataset', ignore_errors=True)"
   ]
  },
  {
   "cell_type": "code",
   "execution_count": 194,
   "metadata": {},
   "outputs": [],
   "source": [
    "# Dataset directories\n",
    "TRAIN_DIR_DOGS = './archive/dataset/training_set/dogs/'\n",
    "TRAIN_DIR_CATS = './archive/dataset/training_set/cats/'\n",
    "TEST_DIR_DOGS = './archive/dataset/test_set/dogs/'\n",
    "TEST_DIR_CATS = './archive/dataset/test_set/cats/'"
   ]
  },
  {
   "cell_type": "code",
   "execution_count": 195,
   "metadata": {},
   "outputs": [],
   "source": [
    "# Function to load and sample dataset paths.\n",
    "def load_and_sample_dataset_paths(train_sample_size, test_sample_size):\n",
    "    # Crate a list of paths to all images in the dataset.\n",
    "    train_images_dogs = [TRAIN_DIR_DOGS + i for i in os.listdir(TRAIN_DIR_DOGS)]\n",
    "    train_images_cats = [TRAIN_DIR_CATS + i for i in os.listdir(TRAIN_DIR_CATS)]\n",
    "    test_images_dogs = [TEST_DIR_DOGS + i for i in os.listdir(TEST_DIR_DOGS)]\n",
    "    test_images_cats = [TEST_DIR_CATS + i for i in os.listdir(TEST_DIR_CATS)]\n",
    "    \n",
    "    # Now take samples from the list of paths.\n",
    "    train_images_dogs_sample = random.sample(train_images_dogs, train_sample_size)\n",
    "    train_images_cats_sample = random.sample(train_images_cats, train_sample_size)\n",
    "    test_images_dogs_sample = random.sample(test_images_dogs, test_sample_size)\n",
    "    test_images_cats_sample = random.sample(test_images_cats, test_sample_size)\n",
    "\n",
    "\n",
    "    print('Train Dogs:', len(train_images_dogs_sample))\n",
    "    print('Train Cats:', len(train_images_cats_sample))\n",
    "    print('Test Dogs:', len(test_images_dogs_sample))\n",
    "    print('Test Cats:', len(test_images_cats_sample))\n",
    "\n",
    "    return train_images_dogs_sample, train_images_cats_sample, test_images_dogs_sample, test_images_cats_sample"
   ]
  },
  {
   "cell_type": "code",
   "execution_count": 196,
   "metadata": {},
   "outputs": [
    {
     "name": "stdout",
     "output_type": "stream",
     "text": [
      "Train Dogs: 500\n",
      "Train Cats: 500\n",
      "Test Dogs: 100\n",
      "Test Cats: 100\n"
     ]
    }
   ],
   "source": [
    "# Set sample size.\n",
    "train_sample_size = 500\n",
    "test_sample_size = 100\n",
    "\n",
    "train_images_dogs, train_images_cats, test_images_dogs, test_images_cats = load_and_sample_dataset_paths(train_sample_size, test_sample_size)"
   ]
  },
  {
   "cell_type": "code",
   "execution_count": 197,
   "metadata": {},
   "outputs": [],
   "source": [
    "# Function to create a directory structure of the sampled dataset by copying files\n",
    "def create_sampled_directory_structure(train_images_dogs, train_images_cats, test_images_dogs, test_images_cats, base_dir='./sampled_dataset/'):\n",
    "\n",
    "    train_dir = os.path.join(base_dir, 'training_set')\n",
    "    test_dir = os.path.join(base_dir, 'test_set')\n",
    "    \n",
    "    train_dogs_dir = os.path.join(train_dir, 'dogs')\n",
    "    train_cats_dir = os.path.join(train_dir, 'cats')\n",
    "    test_dogs_dir = os.path.join(test_dir, 'dogs')\n",
    "    test_cats_dir = os.path.join(test_dir, 'cats')\n",
    "    \n",
    "\n",
    "    # Create the new directory structure IF they do not exist.\n",
    "    os.makedirs(train_dogs_dir, exist_ok=True)\n",
    "    os.makedirs(train_cats_dir, exist_ok=True)\n",
    "    os.makedirs(test_dogs_dir, exist_ok=True)\n",
    "    os.makedirs(test_cats_dir, exist_ok=True)\n",
    "    \n",
    "    \n",
    "    # Copy the original image files to this new sampled directory structure.\n",
    "    for img_path in train_images_dogs:\n",
    "        shutil.copy2(img_path, os.path.join(train_dogs_dir, os.path.basename(img_path)))\n",
    "    for img_path in train_images_cats:\n",
    "        shutil.copy2(img_path, os.path.join(train_cats_dir, os.path.basename(img_path)))\n",
    "    for img_path in test_images_dogs:\n",
    "        shutil.copy2(img_path, os.path.join(test_dogs_dir, os.path.basename(img_path)))\n",
    "    for img_path in test_images_cats:\n",
    "        shutil.copy2(img_path, os.path.join(test_cats_dir, os.path.basename(img_path)))\n",
    "\n",
    "\n",
    "    # Show the sample sizes of all sets used.\n",
    "    print('Train Dogs:', len(os.listdir(train_dogs_dir)))\n",
    "    print('Train Cats:', len(os.listdir(train_cats_dir)))\n",
    "    print('Test Dogs:', len(os.listdir(test_dogs_dir)))\n",
    "    print('Test Cats:', len(os.listdir(test_cats_dir)))\n",
    "    \n",
    "    return train_dir, test_dir"
   ]
  },
  {
   "cell_type": "code",
   "execution_count": 198,
   "metadata": {},
   "outputs": [
    {
     "name": "stdout",
     "output_type": "stream",
     "text": [
      "Train Dogs: 500\n",
      "Train Cats: 500\n",
      "Test Dogs: 100\n",
      "Test Cats: 100\n"
     ]
    }
   ],
   "source": [
    "# Create sampled directory structure (call the function)\n",
    "sampled_train_data_dir, sampled_test_data_dir = create_sampled_directory_structure(train_images_dogs, train_images_cats, test_images_dogs, test_images_cats)"
   ]
  },
  {
   "cell_type": "markdown",
   "metadata": {},
   "source": [
    "# Data Preprocessing"
   ]
  },
  {
   "cell_type": "code",
   "execution_count": 199,
   "metadata": {},
   "outputs": [
    {
     "name": "stdout",
     "output_type": "stream",
     "text": [
      "Found 1000 images belonging to 2 classes.\n",
      "Found 200 images belonging to 2 classes.\n"
     ]
    }
   ],
   "source": [
    "# Data augmentation\n",
    "train_datagen = ImageDataGenerator(\n",
    "    rescale=1./255,\n",
    "    rotation_range=40,\n",
    "    width_shift_range=0.2,\n",
    "    height_shift_range=0.2,\n",
    "    shear_range=0.2,\n",
    "    zoom_range=0.2,\n",
    "    horizontal_flip=True,\n",
    ")\n",
    "\n",
    "# Creating training and validation sets\n",
    "train_generator = train_datagen.flow_from_directory(\n",
    "    sampled_train_data_dir,\n",
    "    target_size=(64, 64),\n",
    "    batch_size=32,\n",
    "    class_mode='binary',\n",
    ")\n",
    "\n",
    "# Creating test set\n",
    "test_datagen = ImageDataGenerator(rescale=1./255)\n",
    "\n",
    "test_generator = test_datagen.flow_from_directory(\n",
    "    sampled_test_data_dir,\n",
    "    target_size=(64, 64),\n",
    "    batch_size=32,\n",
    "    class_mode='binary'\n",
    ")"
   ]
  },
  {
   "cell_type": "markdown",
   "metadata": {},
   "source": [
    "# Feature Extraction Using SIFT"
   ]
  },
  {
   "cell_type": "code",
   "execution_count": 200,
   "metadata": {},
   "outputs": [],
   "source": [
    "# Function to extract SIFT features (Descriptors).\n",
    "def extract_sift_features(image_paths):\n",
    "    # Initialize a SIFT detector. (this is what we will use to extract features)\n",
    "    sift = cv2.SIFT_create()\n",
    "    descriptors = []\n",
    "    # A Loop to iterate over each image path in \"image_paths\".\n",
    "    for path in image_paths:\n",
    "        # Read an image.\n",
    "        img = cv2.imread(path, cv2.IMREAD_GRAYSCALE)\n",
    "        # Detect keypoints of an image and compute the descriptors.\n",
    "        # Keypoints are distinctive image features that can be used to perform matching between different images.\n",
    "        # (like corners, edges, blobs, etc.)\n",
    "        kp, des = sift.detectAndCompute(img, None)      # Note: \"None\" is a placeholder for a mask. We won't use it because we want to detect keypoints in the whole image.\n",
    "        # Check if descriptors were found in the image.\n",
    "        if des is not None:\n",
    "            # Append the descriptors to the list of descriptors.\n",
    "            descriptors.extend(des)\n",
    "\n",
    "    return np.array(descriptors)\n",
    "\n",
    "\n",
    "train_images = train_generator.filepaths\n",
    "train_descriptors = extract_sift_features(train_images)"
   ]
  },
  {
   "cell_type": "markdown",
   "metadata": {},
   "source": [
    "# Bag Of Visual Words"
   ]
  },
  {
   "cell_type": "code",
   "execution_count": 201,
   "metadata": {},
   "outputs": [
    {
     "name": "stderr",
     "output_type": "stream",
     "text": [
      "c:\\Users\\LENOVO\\anaconda3\\Lib\\site-packages\\sklearn\\cluster\\_kmeans.py:1412: FutureWarning: The default value of `n_init` will change from 10 to 'auto' in 1.4. Set the value of `n_init` explicitly to suppress the warning\n",
      "  super()._check_params_vs_input(X, default_n_init=10)\n"
     ]
    },
    {
     "name": "stdout",
     "output_type": "stream",
     "text": [
      "(2, 128)\n"
     ]
    }
   ],
   "source": [
    "# Function to build visual vocabulary.\n",
    "# We group similar descriptors into clusters, so that we can represent a cluster as a class.\n",
    "\n",
    "def build_visual_vocabulary(descriptors, k):\n",
    "    # Initialize the KMeans model.\n",
    "    kmeans = KMeans(n_clusters=k)\n",
    "    # Fit the model on the descriptors. (this is the actual finished model with the 2 created clusters)\n",
    "    kmeans.fit(descriptors)\n",
    "    \n",
    "    return kmeans.cluster_centers_\n",
    "\n",
    "# Number of clusters (labels/ classes) = (cat and dog)\n",
    "k = 2\n",
    "visual_vocab = build_visual_vocabulary(train_descriptors, k)\n",
    "print(visual_vocab.shape)"
   ]
  },
  {
   "cell_type": "markdown",
   "metadata": {},
   "source": [
    "# Histogram Representation"
   ]
  },
  {
   "cell_type": "code",
   "execution_count": 202,
   "metadata": {},
   "outputs": [],
   "source": [
    "# Function to compute histograms using the bag of words representation.\n",
    "def compute_histograms(image_paths, sift, visual_vocab):\n",
    "    histograms = []\n",
    "    for path in image_paths:\n",
    "        # Read an image\n",
    "        img = cv2.imread(path, cv2.IMREAD_GRAYSCALE)\n",
    "        # Get the images descriptors.\n",
    "        kp, des = sift.detectAndCompute(img, None)\n",
    "        # Check if descriptors were found in the image.\n",
    "        if des is not None:\n",
    "            # Initialize a histogram having the same length as the number of clusters\n",
    "            #   because we want to count how many descriptors fall into each cluster.\n",
    "            hist = np.zeros(len(visual_vocab))\n",
    "            # For each descriptor in the image, assign it to the nearest cluster.\n",
    "            # For this we calculate it using the following method:\n",
    "            #   - Compute the Euclidean distance between the descriptor and each cluster center.\n",
    "            #   - Assign the descriptor to the cluster with the minimum distance.\n",
    "            for d in des:\n",
    "                # idx is the cluster bin. So we find the cluster with the minimum distance.\n",
    "                # And we increment the bin's size by 1.\n",
    "                # So at the end, we will have a histogram showing how many descriptors fall into each cluster.\n",
    "                #    {min dist.}{           distance calculation        }\n",
    "                idx = np.argmin(np.linalg.norm(visual_vocab - d, axis=1))\n",
    "                hist[idx] += 1\n",
    "            histograms.append(hist)\n",
    "        else:\n",
    "            # If no descriptors were found in the image, we append a zero vector.\n",
    "            histograms.append(np.zeros(len(visual_vocab)))\n",
    "    return histograms"
   ]
  },
  {
   "cell_type": "code",
   "execution_count": 203,
   "metadata": {},
   "outputs": [],
   "source": [
    "# Compute histograms for training set images.\n",
    "train_histograms = compute_histograms(train_images, cv2.SIFT_create(), visual_vocab)\n",
    "\n",
    "# Compute histograms for test set images.\n",
    "test_images = test_generator.filepaths\n",
    "test_histograms = compute_histograms(test_images, cv2.SIFT_create(), visual_vocab)"
   ]
  },
  {
   "cell_type": "code",
   "execution_count": 204,
   "metadata": {},
   "outputs": [
    {
     "data": {
      "image/png": "[encoded data removed]",
      "text/plain": [
       "<Figure size 600x600 with 4 Axes>"
      ]
     },
     "metadata": {},
     "output_type": "display_data"
    }
   ],
   "source": [
    "# Select 4 histograms from the test_histograms list.\n",
    "selected_histograms = test_histograms[:4]\n",
    "\n",
    "# Create a 2x2 subplot.\n",
    "fig, axes = plt.subplots(2, 2, figsize=(6, 6))\n",
    "\n",
    "# Iterate over the selected histograms and plot them in the subplot.\n",
    "for i, histogram in enumerate(selected_histograms):\n",
    "   # Plot the histogram in the corresponding subplot.\n",
    "   axes[i // 2, i % 2].bar(range(len(histogram)), histogram)\n",
    "   axes[i // 2, i % 2].set_title(f' Example Histogram {i+1}')\n",
    "\n",
    "\n",
    "plt.tight_layout()\n",
    "plt.show()\n"
   ]
  },
  {
   "cell_type": "markdown",
   "metadata": {},
   "source": [
    "# Mashine Learning Model Implementation (SVM)"
   ]
  },
  {
   "cell_type": "code",
   "execution_count": 205,
   "metadata": {},
   "outputs": [],
   "source": [
    "# What is the C parameter?\n",
    "# Its a Regularization tuning parameter.\n",
    "# It tells the SVM model how much it should missclassify the training data.\n",
    "# A small C value aims at missclassifying some training data to avoid overfitting and achieve a better generalization.\n",
    "# A large C value aims at classifying all training data correctly, which can lead to overfitting.\n",
    "\n",
    "# This is a tuning parameter that should be optimized for the best prediction performance of the model."
   ]
  },
  {
   "cell_type": "code",
   "execution_count": 206,
   "metadata": {},
   "outputs": [],
   "source": [
    "# Function to train SVM classifier.\n",
    "def train_classifier(X_train, y_train, C=1.0):\n",
    "    # Initialising the SVM classifier.\n",
    "    classifier = SVC(C=C)\n",
    "    # Fitting the classifier on the training data.\n",
    "    classifier.fit(X_train, y_train)\n",
    "    return classifier\n",
    "\n",
    "# Get the true labels of the training set.\n",
    "y_train = train_generator.classes\n",
    "classifier = train_classifier(train_histograms, y_train)"
   ]
  },
  {
   "cell_type": "markdown",
   "metadata": {},
   "source": [
    "# Evaluate The Model"
   ]
  },
  {
   "cell_type": "code",
   "execution_count": 207,
   "metadata": {},
   "outputs": [
    {
     "name": "stdout",
     "output_type": "stream",
     "text": [
      "Test Accuracy: 0.565\n"
     ]
    }
   ],
   "source": [
    "# Evaluate classifier on test set.\n",
    "\n",
    "\n",
    "# Get the true labels of the test set.\n",
    "y_test = test_generator.classes\n",
    "# The generator has an internal counter that is incremented every time a batch is drawn.\n",
    "# We need to reset it before we start extracting the predictions, so that it starts from the beginning.\n",
    "test_generator.reset()\n",
    "# Predict the labels of the test set.\n",
    "y_pred_test = classifier.predict(test_histograms)\n",
    "accuracy_test = accuracy_score(y_test, y_pred_test)\n",
    "print(\"Test Accuracy:\", accuracy_test)"
   ]
  },
  {
   "cell_type": "markdown",
   "metadata": {},
   "source": [
    "# Model Hyperparameter Tuning (Grid Search)"
   ]
  },
  {
   "cell_type": "code",
   "execution_count": 208,
   "metadata": {},
   "outputs": [],
   "source": [
    "# What is cv?\n",
    "# It stands for Cross Validation.\n",
    "# It specifies the number of folds to use in cross-validation.\n",
    "# So we will train the model 5 times.\n",
    "# Each time, we split the train data into training and validation sets.\n",
    "# We train the model on the training set and evaluate it on the validation set.\n",
    "# Then we continue to the next fold and do the same thing again.\n",
    "# Each time, a different subset of the data is used for validation while the remaining data is used for training\n",
    "\n",
    "\n",
    "# This is supposed to give us a more accurate estimate of the model's performance."
   ]
  },
  {
   "cell_type": "code",
   "execution_count": 209,
   "metadata": {},
   "outputs": [
    {
     "name": "stdout",
     "output_type": "stream",
     "text": [
      "Best Hyperparameters: {'C': 0.1}\n"
     ]
    }
   ],
   "source": [
    "# Define the hyperparameter grid.\n",
    "param_grid = {'C': [0.1, 1, 10, 100]}\n",
    "# Initialize the GridSearchCV object.\n",
    "grid_search = GridSearchCV(SVC(), param_grid, cv=5)\n",
    "# Fit the grid search on the training data.\n",
    "grid_search.fit(train_histograms, y_train)\n",
    "# Get the best hyperparameters.\n",
    "best_params = grid_search.best_params_\n",
    "print(\"Best Hyperparameters:\", best_params)"
   ]
  },
  {
   "cell_type": "code",
   "execution_count": 214,
   "metadata": {},
   "outputs": [
    {
     "name": "stdout",
     "output_type": "stream",
     "text": [
      "Test accuracy: 0.565\n",
      "Test recall: 0.45\n",
      "Test precision: 0.5844155844155844\n",
      "Test F1: 0.5084745762711864\n"
     ]
    }
   ],
   "source": [
    "# Evaluation on test set.\n",
    "\n",
    "# First, we to calculate the test set histograms.\n",
    "# We must calculate them again because we reset the test generator.\n",
    "test_images = test_generator.filepaths\n",
    "test_histograms = compute_histograms(test_images, cv2.SIFT_create(), visual_vocab)\n",
    "\n",
    "# Get the true labels of the test set.\n",
    "y_true = test_generator.classes\n",
    "# Predict the labels of the test set.\n",
    "y_pred = classifier.predict(test_histograms)\n",
    "\n",
    "# Calculate accuracy.\n",
    "accuracy_test = accuracy_score(y_true, y_pred)\n",
    "print(\"Test accuracy:\", accuracy_test)\n",
    "# Calculate recall.\n",
    "recall_test = recall_score(y_true, y_pred)\n",
    "print(\"Test recall:\", recall_test)\n",
    "# Calculate precision.\n",
    "precision_test = precision_score(y_true, y_pred)\n",
    "print(\"Test precision:\", precision_test)\n",
    "# Calculate F1 score.\n",
    "f1_test = f1_score(y_true, y_pred)\n",
    "print(\"Test F1:\", f1_test)"
   ]
  },
  {
   "cell_type": "code",
   "execution_count": 213,
   "metadata": {},
   "outputs": [
    {
     "name": "stdout",
     "output_type": "stream",
     "text": [
      "Accuracy: 56.50%\n",
      "\n",
      "Class: cats\n",
      "Recall: 68.00%\n",
      "F1 Score: 60.99%\n",
      "Precision: 55.28%\n",
      "\n",
      "Class: dogs\n",
      "Recall: 45.00%\n",
      "F1 Score: 50.85%\n",
      "Precision: 58.44%\n"
     ]
    },
    {
     "data": {
      "image/png": "[encoded data removed]",
      "text/plain": [
       "<Figure size 1000x700 with 2 Axes>"
      ]
     },
     "metadata": {},
     "output_type": "display_data"
    }
   ],
   "source": [
    "def generate_classification_report(test_generator, classifier):\n",
    "    # Reset the generator's internal counter.\n",
    "    test_generator.reset()\n",
    "    \n",
    "    # Compute predictions using the classifier.\n",
    "    y_pred = classifier.predict(test_histograms)\n",
    "    # Get the true labels from the generator.\n",
    "    y_true = test_generator.classes\n",
    "    \n",
    "    # Generate the confusion matrix.\n",
    "    cm = confusion_matrix(y_true, y_pred)\n",
    "    # Calculate accuracy.\n",
    "    accuracy = accuracy_score(y_true, y_pred)\n",
    "    # Get class names from the generator.\n",
    "    class_names = list(test_generator.class_indices.keys())\n",
    "    # Generate classification report metrics.\n",
    "    metrics = classification_report(y_true, y_pred, target_names=class_names, output_dict=True)\n",
    "\n",
    "    print(f\"Accuracy: {accuracy * 100:.2f}%\")\n",
    "    \n",
    "    # Print metrics for each class.\n",
    "    for class_name, values in metrics.items():\n",
    "        if class_name in class_names:\n",
    "            print(f\"\\nClass: {class_name}\")\n",
    "            print(f\"Recall: {values['recall'] * 100:.2f}%\")\n",
    "            print(f\"F1 Score: {values['f1-score'] * 100:.2f}%\")\n",
    "            print(f\"Precision: {values['precision'] * 100:.2f}%\")\n",
    "\n",
    "    # Plot the confusion matrix.\n",
    "    plt.figure(figsize=(10, 7))\n",
    "    sns.heatmap(cm, annot=True, fmt='d', cmap='Blues', xticklabels=class_names, yticklabels=class_names)\n",
    "    plt.xlabel('Predicted')\n",
    "    plt.ylabel('True')\n",
    "    plt.title('Confusion Matrix')\n",
    "    plt.show()\n",
    "\n",
    "# Call the function with the appropriate arguments.\n",
    "generate_classification_report(test_generator, classifier)"
   ]
  },
  {
   "cell_type": "markdown",
   "metadata": {},
   "source": [
    "# Comparison And Analysis"
   ]
  },
  {
   "cell_type": "markdown",
   "metadata": {},
   "source": [
    "Performance Comparison between the 2 models"
   ]
  },
  {
   "cell_type": "code",
   "execution_count": null,
   "metadata": {},
   "outputs": [],
   "source": [
    "# In our comparison between a machine learning model using a bag-of-words representation\n",
    "# and a Convolutional Neural Network (CNN), distinct performance trends emerged.\n",
    "# The CNN model showed superior recall for dogs (68%), indicating its strength in predicting this class.\n",
    "# However, it struggled with cat predictions, evidenced by its lower recall (31%). Conversely,\n",
    "# the machine learning model excelled in predicting cats, boasting a higher number of\n",
    "# true positives (78) for this class. However, its performance in predicting dogs was\n",
    "# comparatively weaker, with fewer true positives (38). Notably, the CNN model suffered\n",
    "# from overfitting, as evidenced by its high training accuracy (65.625%) and low validation accuracy (25%).\n",
    "# In summary, while the CNN model demonstrated better dog predictions,\n",
    "# the machine learning model was more effective in predicting cats."
   ]
  },
  {
   "cell_type": "markdown",
   "metadata": {},
   "source": [
    "Strengths and weaknesses of the model"
   ]
  },
  {
   "cell_type": "code",
   "execution_count": null,
   "metadata": {},
   "outputs": [],
   "source": [
    "# This model fails to predict dogs. It predicts dogs as cats a lot of the time.\n",
    "# So this model did achieve to learn the features of dogs properly, but it failed to learn the features of cats properly.\n",
    "# What we did differently here, is that we decreased the input image size from 128x128 to 64x64.\n",
    "# This could have led to all images being a bit blurry and unclear, so the model was forced to learn all features of the images the same way.\n",
    "# So it did not matter that cats had unclear distinct features.\n",
    "# But this might have led to the model not being able to learn the features of dogs properly.\n",
    "\n",
    "# This model though was able to predict cats successfully."
   ]
  },
  {
   "cell_type": "markdown",
   "metadata": {},
   "source": [
    "Identify scenarios where the hybrid approach may be more suitable than using deep learning alone"
   ]
  },
  {
   "cell_type": "code",
   "execution_count": null,
   "metadata": {},
   "outputs": [],
   "source": [
    "# DEFINITION:\n",
    "# In the context of object classification using machine learning and deep learning,\n",
    "# the hybrid approach involves using both traditional machine learning techniques,\n",
    "# like bag-of-words with Support Vector Classifier (SVC),\n",
    "# and deep learning with Convolutional Neural Networks (CNN) to develop a classification model.\n",
    "\n",
    "\n",
    "# This hybrid approach might be suitable for situations where there is a lack of labeled data.\n",
    "# In this case, we do have labeled data, so bag of words might not be necessary.\n",
    "# Furthermore, SVC is known for generalizing data very well, so it might be a good approach to use here,\n",
    "# along with the CNN model that we already have."
   ]
  }
 ],
 "metadata": {
  "kernelspec": {
   "display_name": "base",
   "language": "python",
   "name": "python3"
  },
  "language_info": {
   "codemirror_mode": {
    "name": "ipython",
    "version": 3
   },
   "file_extension": ".py",
   "mimetype": "text/x-python",
   "name": "python",
   "nbconvert_exporter": "python",
   "pygments_lexer": "ipython3",
   "version": "3.11.5"
  }
 },
 "nbformat": 4,
 "nbformat_minor": 2
}
